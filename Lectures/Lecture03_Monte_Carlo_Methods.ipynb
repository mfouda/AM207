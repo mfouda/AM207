{
 "metadata": {
  "name": "",
  "signature": "sha256:b2f5cc861b3c65dce5c76c89de226cebd4aed6304f5b44a8836e99e36afcfbc1"
 },
 "nbformat": 3,
 "nbformat_minor": 0,
 "worksheets": [
  {
   "cells": [
    {
     "cell_type": "code",
     "collapsed": false,
     "input": [
      "%matplotlib inline\n",
      "import numpy as np\n",
      "import matplotlib.pyplot as plt\n",
      "import seaborn as sns\n",
      "sns.set_style('white')\n",
      "sns.set_context('paper')"
     ],
     "language": "python",
     "metadata": {},
     "outputs": [],
     "prompt_number": 1
    },
    {
     "cell_type": "markdown",
     "metadata": {},
     "source": [
      "# Lecture 3: Basic Monte Carlo - Integration, sampling and error estimation\n",
      "AM207: Pavlos Protopapas, Harvard University\n"
     ]
    },
    {
     "cell_type": "markdown",
     "metadata": {},
     "source": [
      "##1. Buffon's needle\n",
      "\n",
      "Before the actual `discovery' of the Monte Carlo method,  Georges-Louis Leclerc comte de Buffon in\n",
      "1777 stated a problem involving dropping a needle on a lined surface.\n",
      "Suppose we have a floor made of parallel strips of wood, each the same width, and we drop a needle onto the floor. What is the probability that the needle will lie across a line between two strips?\n",
      "The solution, in the case where the needle length is not greater than the width of the strips, can be used to design a Monte Carlo-style method for approximating the number $\\pi$.\n",
      "\n",
      "![Buffon Needle](./Lecture03_data/Buffon_needle.gif)\n",
      "\n",
      "Let $l$ be the length of the needle and $t$ the distance between two lines. We then ask the question\n",
      "what is the probability that the needle dropped will cross a line. Let $x$ be the distance from the center \n",
      "of the needle to the closest line and $\\theta$ the acute angle of the needle and that line ($0 \\leq \\theta \\leq \\pi/2$).\n",
      "The normalized uniform probability density function of $x$ between $[0,t/2]$ is $2/t$. \n",
      "Similarly the probability density function of $\\theta$ between $[0, \\pi/2]$ is $2/\\pi$.\n",
      "As $x$ and $\\theta$ are independent, the joint probability density function is $\\frac{4}{t\\pi}$.\n",
      "\n",
      "If the length of the needle is smaller than the interline distance then the probability \n",
      "of crossing the line is given by the integral of the joint probability density \n",
      "\n",
      "$$ P = \\int_{\\theta=0}^{2\\pi} \\int_{x=0}^{l/2 \\, \\sin\\theta} \\frac{4}{t\\pi} d\\theta \\, dx  = \\frac{2l}{t \\pi} $$\n",
      "\n",
      "In this simple case, one can solve for $\\pi$:\n",
      "\n",
      "$$ \\pi = \\frac{2 \\,l }{t \\,P} $$\n",
      "\n",
      "Therefore, if we conduct an experiment to estimate $P$, we will also have an estimate for $\\pi$. \n",
      "\n",
      "For example, suppose we throw $n$ needles and we find that a subset $m$ of those\n",
      "cross a line, then $P=m/n$, or $\\pi =  \\frac{2 \\, l \\, n}{t \\, m}$\n",
      "\n",
      "[This page](http://mste.illinois.edu/activity/buffon/) has a nice interactive applet to see Buffon's needle in action. \n",
      "\n",
      "Fun fact: It seemst hat ants use Buffon's needle to estimate sizes of potential nesting places (see [this article](http://beheco.oxfordjournals.org/content/12/6/655.full))"
     ]
    },
    {
     "cell_type": "markdown",
     "metadata": {},
     "source": [
      "## 2. Monte Carlo\n",
      "\n",
      "The term **Monte Carlo** really comes from the randomness inherent in the\n",
      "method. It was invented by Metropolis and popularized by the pioneers in the\n",
      "field: Metropolis, Ulam, Fermi, von Neumann, in 40's - 50's.\n",
      "\n",
      "The most common use for Monte Carlo methods is the evaluation of integrals. This is\n",
      "also the basis of Monte Carlo simulations (which are actually integrations). The basic\n",
      "principles hold true in both cases. \n",
      "\n",
      "### Hit or miss method\n",
      "The basic idea of the Monte Carlo integration becomes clear\n",
      "from the  ``surviving in the desert\"  example, where Mr. Anderson threw stones to estimate the area of the pond. \n",
      "In other words he integrated the area of an irregular domain:\n",
      "\n",
      "He Threw rocks in the air, i.e. chose points randomly within a rectangular box surrounding the function:\n",
      "\n",
      "$$ \\hat{I} = \\frac{N_{inside}}{N_{total}} A $$ \n",
      "\n",
      "where $\\hat{I}$ is our estimate for the area under the curve (red in the illustration below), \n",
      "and $A$ is the area of the rectangular box we throw points into.\n",
      "\n",
      "![rocks in a box](./Lecture03_data/MonteCarlo2.png)\n",
      "\n",
      "This method has the drawback that we need to choose the size of our box wisely. If the box is too large, most of the random samples are outside the red area and we waste a lot of samples. If we make it too small we might not have the whole red area inside the box. \n",
      "\n"
     ]
    },
    {
     "cell_type": "markdown",
     "metadata": {},
     "source": [
      "### Hit-and-miss example: How to calculate the area of a cirlce\n",
      "The area of a circle is computed as $A = \\pi r^2$. So the area of a circle with radius one is $\\pi$. And we can use Monte Carlo to estimate $\\pi$ by estimating the area of a unit circle. \n"
     ]
    },
    {
     "cell_type": "code",
     "collapsed": false,
     "input": [
      "#plt.figure(figsize=(8,8))  # set the figure size\n",
      "\n",
      "radius = 1\n",
      "\n",
      "N = 100000  #Use 10000 points \n",
      "X = np.random.uniform(low=-radius, high=radius, size=N)  # Random numbers from -1 to 1\n",
      "Y = np.random.uniform(low=-radius, high=radius, size=N)   \n",
      "\n",
      "# calculate the distance from the center \n",
      "R = np.sqrt(X**2+Y**2);  \n",
      "\n",
      "box_area =(2.0*radius)**2      # This is the big box \n",
      "is_point_inside = R<radius\n",
      "N_inside=np.sum(is_point_inside)\n",
      "circle_area = box_area*N_inside/N\n",
      "\n",
      "plt.scatter(X,Y, c=is_point_inside, s=5.0, edgecolors='none', cmap=plt.cm.Paired)  \n",
      "plt.axis('equal')\n",
      "plt.legend()\n",
      "\n",
      "print \"Area of the circle = \", circle_area\n",
      "print \"pi = \", circle_area/radius**2"
     ],
     "language": "python",
     "metadata": {},
     "outputs": [
      {
       "output_type": "stream",
       "stream": "stdout",
       "text": [
        "Area of the circle =  3.14288\n",
        "pi =  3.14288\n"
       ]
      },
      {
       "output_type": "stream",
       "stream": "stderr",
       "text": [
        "C:\\Users\\vkaynig\\AppData\\Local\\Enthought\\Canopy32\\User\\lib\\site-packages\\matplotlib\\axes\\_axes.py:476: UserWarning: No labelled objects found. Use label='...' kwarg on individual plots.\n",
        "  warnings.warn(\"No labelled objects found. \"\n"
       ]
      },
      {
       "metadata": {},
       "output_type": "display_data",
       "png": "[encoded data removed]",
       "text": [
        "<matplotlib.figure.Figure at 0x3055750>"
       ]
      }
     ],
     "prompt_number": 2
    },
    {
     "cell_type": "markdown",
     "metadata": {},
     "source": [
      "### Mean-value theorem\n",
      "Consider 1-dimensional definite integral:\n",
      "\n",
      "$$ I = \\int_{a}^{b} f(x) \\, dx $$\n",
      "\n",
      "Recall that:\n",
      "\n",
      "$$ \\langle f \\rangle = \\frac{ \\int_{\\omega} f(x) dx }{ \\int_{\\omega} dx } $$\n",
      "\n",
      "where $\\omega$ defines the coverage. Let $\\int_{\\omega} dx =V $ then \n",
      "\n",
      "$$ \\int_{a}^{b} f(x) \\, dx = V \\langle f \\rangle   $$\n",
      "\n",
      "\n",
      "\n",
      "The integral can be determined by the average value of the integrand\n",
      "$f(x)$ in the range of $x$. \n",
      "To determine this average, we choose the $x_i$ at random  and sample the value of $f(x)$. For the one-dimensional integral above, the estimate $\\hat{I}$ of the integral in the sample mean method is given by\n",
      "\n",
      "$$\\hat{I} = V \\langle f \\rangle  \\approx V \\frac{1}{N} \\sum_{i=1}^{N} f(x_i) $$\n",
      "\n",
      "and this estimation becomes exact as $N \\rightarrow \\infty$ as \n",
      "\n",
      "$$ \\langle f \\rangle = \\lim_{N\\rightarrow \\infty} \\sum_{i=1}^{N} f(x_i) $$"
     ]
    },
    {
     "cell_type": "markdown",
     "metadata": {},
     "source": [
      "### Example: \n",
      "\n",
      "**Calculate the integral $ I= \\int_{2}^{3} [x^2 + 4 \\, x \\,\\sin(x)] \\, dx. $**\n",
      "\n",
      "We know from calculus that the anti-derivative is \n",
      "$$ \\frac{x^3}{3} + 4\\sin(x) -4x\\cos(x). $$ \n",
      "\n",
      "To solve this using MC, we simply draw $N$ random numbers from 2 to 3 and then take the average of all the values $f(x)=x^2 + 4 \\, x \\,\\sin(x)$ and normalized over the volume; in this case the volume is 1 (3-2=1). "
     ]
    },
    {
     "cell_type": "code",
     "collapsed": false,
     "input": [
      "def f(x):\n",
      "    return x**2 + 4*x*np.sin(x) \n",
      "\n",
      "def intf(x): \n",
      "    return x**3/3.0+4.0*np.sin(x) - 4.0*x*np.cos(x) "
     ],
     "language": "python",
     "metadata": {},
     "outputs": [],
     "prompt_number": 3
    },
    {
     "cell_type": "code",
     "collapsed": false,
     "input": [
      "a = 2;    \n",
      "b = 3; \n",
      "\n",
      "# use N draws \n",
      "N= 10000\n",
      "\n",
      "#N values uniformly drawn from a to b \n",
      "X = np.random.uniform(low=a, high=b, size=N) \n",
      "Y = f(X)   # calculate f(X)\n",
      "\n",
      "Imc= (b-a) * np.sum(Y)/ N;\n",
      "\n",
      "exactval=intf(b)-intf(a)\n",
      "\n",
      "print \"Monte Carlo estimation=\",Imc, \"Exact number=\", intf(b)-intf(a)\n"
     ],
     "language": "python",
     "metadata": {},
     "outputs": [
      {
       "output_type": "stream",
       "stream": "stdout",
       "text": [
        "Monte Carlo estimation= 11.8163533235 Exact number= 11.8113589251\n"
       ]
      }
     ],
     "prompt_number": 4
    },
    {
     "cell_type": "markdown",
     "metadata": {},
     "source": [
      "### Mutlidimensional integral. \n",
      "That is nice but how about the multidimensional case? In principle the method stays the same, but we need to make sure that our random samples fall inside the area we want to integrate over. \n",
      "\n",
      "### Example:\n",
      "Calculate the two dimensional integral $I=\\int \\int f(x, y) dx dy$ where $f(x,y) = x^2 +y^2$ \n",
      "over the region de\ufb01ned by the condition $x^2 +y^2 \u2264 1$. The steps are the same as above, but we need an additional check that the region condition is fulfilled by our random samples.\n",
      "\n",
      "\n",
      "\n",
      "\n",
      "\n",
      "\n"
     ]
    },
    {
     "cell_type": "code",
     "collapsed": false,
     "input": [
      "fmd = lambda x,y: x*x + y*y"
     ],
     "language": "python",
     "metadata": {},
     "outputs": [],
     "prompt_number": 5
    },
    {
     "cell_type": "code",
     "collapsed": false,
     "input": [
      "# use N draws \n",
      "N= 8000\n",
      "X= np.random.uniform(low=-1, high=1, size=N) \n",
      "Y= np.random.uniform(low=-1, high=1, size=N) \n",
      "Z=fmd(X, Y)   # calculate f(x) \n",
      "\n",
      "R = X**2 + Y**2\n",
      "\n",
      "# reject all samples that do not satisfy our region condition\n",
      "N = np.sum(R<1) \n",
      "sumsamples = np.sum(Z[R<1])\n",
      "\n",
      "print \"I=\",np.pi*1.0*1.0*sumsamples/N, \"actual\", np.pi/2.0 #actual value (change to polar to calculate)"
     ],
     "language": "python",
     "metadata": {},
     "outputs": [
      {
       "output_type": "stream",
       "stream": "stdout",
       "text": [
        "I= 1.56777564227 actual 1.57079632679\n"
       ]
      }
     ],
     "prompt_number": 6
    },
    {
     "cell_type": "markdown",
     "metadata": {},
     "source": [
      "## 3. Errors in MC\n",
      "\n",
      "How does the accuracy depends on the number of points(samples)? Lets try the same 1-D integral $ I= \\int_{2}^{3} [x^2 + 4 \\, x \\,\\sin(x)] \\, dx $ as a function of the number of points. "
     ]
    },
    {
     "cell_type": "code",
     "collapsed": false,
     "input": [
      "Imc=np.zeros(1000)\n",
      "Na = np.linspace(0,1000,1000)\n",
      "\n",
      "exactval= intf(b)-intf(a)\n",
      "\n",
      "for N in np.arange(0,1000):\n",
      "    X = np.random.uniform(low=a, high=b, size=N) # N values uniformly drawn from a to b \n",
      "    Y =f(X)   # calculate f(x) \n",
      "\n",
      "    Imc[N]= (b-a) * np.sum(Y)/ N;\n",
      "    \n",
      "    \n",
      "plt.plot(Na[10:],np.sqrt((Imc[10:]-exactval)**2), alpha=0.7)\n",
      "plt.plot(Na[10:], 1/np.sqrt(Na[10:]), 'r')\n",
      "plt.xlabel(\"N\")\n",
      "plt.ylabel(\"sqrt((Imc-ExactValue)$^2$)\")\n"
     ],
     "language": "python",
     "metadata": {},
     "outputs": [
      {
       "metadata": {},
       "output_type": "pyout",
       "prompt_number": 7,
       "text": [
        "<matplotlib.text.Text at 0x7eb1e30>"
       ]
      },
      {
       "metadata": {},
       "output_type": "display_data",
       "png": "[encoded data removed]",
       "text": [
        "<matplotlib.figure.Figure at 0x7e288b0>"
       ]
      }
     ],
     "prompt_number": 7
    },
    {
     "cell_type": "markdown",
     "metadata": {},
     "source": [
      "It seems that the error depends on the number of $N$ as $1/\\sqrt{N}$. "
     ]
    },
    {
     "cell_type": "markdown",
     "metadata": {},
     "source": [
      "\n",
      "\n",
      "The Monte Carlo methods yield approximate\n",
      "answers whose accuracy depends on the number of draws.\n",
      "So far, we have used our knowledge of the exact value of various integrals to determine that the\n",
      "error in the Monte Carlo method approaches zero as approximately $1/\\sqrt{N}$ for large $N$, where $N$ is the number of trials. In the following, we will \ufb01nd how to estimate the error when the exact answer is unknown. The $N$ dependence of the error is independent of the nature of the integrand and, most importantly, independent of the number of dimensions.\n",
      "\n",
      " Consider the Monte Carlo evaluation of the integral we saw above \n",
      "$ f(x)=x^2 + 4 \\, x \\,\\sin(x)$  in the interval $[2,3]$ which takes the value 11.8113589251. We can estimate this as we did above example by comparing to the exact value. \n",
      "How can we estimate the error if the exact result is unknown? How can we know if $N = 10^5$ trials is sufficient to achieve the desired accuracy? Of course, we cannot answer these questions de\ufb01nitively because if the actual error in $\\hat{I}$ were known, we could correct it  by the required\n",
      "amount and obtain $I$. The best we can do is to calculate the probability that the true value $I$ is within a certain range centered on $\\hat{I}$.\n",
      "\n",
      "We can do this either analytically or by repeating the experiment $m$ times and determine an empirical distribution. From that we can estimate the confidence intervals. \n",
      "\n",
      "So, lets repeat the same evaluation $m$ times and check the variance of the estimate. "
     ]
    },
    {
     "cell_type": "code",
     "collapsed": false,
     "input": [
      "# multiple MC estimations\n",
      "m=1000\n",
      "N=10000\n",
      "Imc=np.zeros(m)\n",
      "\n",
      "\n",
      "for i in np.arange(0,m):\n",
      "    \n",
      "    X = np.random.uniform(low=a, high=b, size=N) # N values uniformly drawn from a to b \n",
      "    Y =f(X)   # CALCULATE THE f(x) \n",
      "\n",
      "    Imc[i]= (b-a) * np.sum(Y)/ N;\n",
      "    \n",
      "    \n",
      "plt.hist(Imc)\n",
      "plt.xlabel(\"Imc\")\n",
      "print np.mean(Imc), np.std(Imc)\n"
     ],
     "language": "python",
     "metadata": {},
     "outputs": [
      {
       "output_type": "stream",
       "stream": "stdout",
       "text": [
        "11.8113326902 0.00413934251104\n"
       ]
      },
      {
       "metadata": {},
       "output_type": "display_data",
       "png": "[encoded data removed]",
       "text": [
        "<matplotlib.figure.Figure at 0x7e9e0f0>"
       ]
      }
     ],
     "prompt_number": 8
    },
    {
     "cell_type": "markdown",
     "metadata": {},
     "source": [
      "One way to obtain an estimate for the error is to make  runs of $N$ trials each. Each run of $N$ trials yields a mean or measurement that we denote as $M_a$. As we shown above (and is expected)these measurements are not equal because each measurement uses a different finite sequence of random\n",
      "numbers and inherently has an error itself. Qualitatively, the magnitude of\n",
      "the differences between the measurements is similar to the actual errors per measurement, and hence these differences are a measure of the error associated with a single measurement. To obtain a quantitative measure\n",
      "of this error, we determine the differences of these measurements using the standard deviation of the means $\\sigma_m$ which is de\ufb01ned as:\n",
      "\n",
      "$$ \\sigma_m= \\langle M^2 \\rangle- \\langle M \\rangle ^2 $$\n",
      "\n",
      "where \n",
      "\n",
      "$$ \\langle M \\rangle = \\frac{1}{m} \\sum_{a=1}^{m} M_a $$\n",
      "\n",
      "and\n",
      "\n",
      "$$ \\langle M^2 \\rangle = \\frac{1}{m} \\sum_{a=1}^{m} M_a^2 $$\n",
      "\n",
      "\n",
      "Although $\\sigma_a$ gives an estimate of the probable error, this method of obtaining $\\sigma_a$ by making additional measurements is impractical because we could have combined the additional measurements to make a better estimate.\n",
      "\n",
      "One can show that:\n",
      "\n",
      "$$ \\sigma_m^2 \\approx \\frac{\\sigma^2}{N} $$\n",
      "\n",
      "where \n",
      "\n",
      "$$ \\sigma^2= \\langle f^2 \\rangle - \\langle f \\rangle ^2 $$\n",
      "\n",
      "which is the actual variance of the function (this will become very important later) \n",
      "\n",
      "Finally:\n",
      "$$ \\sigma_m^2 \\approx \\frac{\\langle f^2 \\rangle - \\langle f \\rangle ^2 }{N} $$\n",
      "\n",
      "\n",
      "Therefore, in the Monte Carlo integration using $N$ samples, the error is\n",
      " \n",
      "$$ \\sigma_I =  \\sqrt{\\frac{\\langle f^2\\rangle- \\langle f\\rangle^2}{N}} .$$\n",
      "\n",
      "\n",
      "which is the same for any dimensional space. \n",
      "\n",
      "One way to verify the relation  is to divide the initial measurement of $N$ trials into $s$ subsets. This procedure does not require additional measurements. We denote the mean value of\n",
      "$f(x_i)$ in the $k$th subset by $S_k$. As an example, we divide the 10,000 trials of the \ufb01rst measurement into $s = 10$ subsets of $N/s = 1000$ trials each.  A reasonable candidate for a measure\n",
      "of the error is the standard deviation of the means of each subset. We denote this quantity as $\\sigma_s$ where\n",
      "\n",
      "$$ \\sigma_s^2 = \t\\langle S \\rangle ^2 \u2212\t\\langle S ^2 \\rangle $$\n",
      "\n",
      "where the averages now are over the subsets. Obviously we would like to\n",
      "de\ufb01ne an error estimate that is independent of how we subdivide the data. This quantity is not $\\sigma_s$ but but the ratio $\\sigma_s/s$ and when $s$ goes to $n$ we have the required results. \n"
     ]
    },
    {
     "cell_type": "markdown",
     "metadata": {},
     "source": [
      "## 4. Importance Sampling\n",
      "\n",
      "Often the integrand has a very small value on a dominant fraction of the whole integration volume.\n",
      "If the points are chosen evenly in the\n",
      "integration volume, the small minority\n",
      "of the points close to the `peak' give\n",
      "the dominant contribution to the integral.\n",
      "\n",
      "Importance sampling: choose the random\n",
      "points so that more points are chosen around\n",
      "the peak, less where the integrand is small.\n",
      "\n",
      "For example lets look at the integral\n",
      "\n",
      "$$ I = \\int_V f(x) dV. $$\n",
      "\n",
      "Choose a distribution $p(x)$, which is close to the function $f(x)$, but which is simple\n",
      "enough so that it is possible to generate random $x$-values from this distribution.\n",
      "The integral can now be re-written as:\n",
      "\n",
      "$$ I = \\int p(x) \\frac{f(x)}{p(x)} dV $$\n",
      "\n",
      "Therefore if we choose random numbers $x_i$ from distribution $p(x)$, we obtain\n",
      "\n",
      "$$ I = \\lim_{N\\rightarrow \\infty} \\frac{1}{N} \\sum_{x_{i}\\sim p(.)} \\frac{f(x_i)}{p(x_i)} $$\n",
      "\n",
      "Another way of seeing this is since $f/p$ is flatter than $f$, the variance of $f/p$ is smaller that the variance of $f$ and therefore the error will be smaller for all $N$.\n",
      "\n",
      "### Example: Calculate $\\int_{0}^{\\pi} \\sin(x) \\, x \\, dx $\n",
      "\n",
      "The function has a shape that is similar to Gaussian and therefore we choose here a Gaussian as importance sampling distribution. \n"
     ]
    },
    {
     "cell_type": "code",
     "collapsed": false,
     "input": [
      "from scipy import stats\n",
      "from scipy.stats import norm\n",
      "\n",
      "mu = 2;\n",
      "sig =.7;\n",
      "\n",
      "f = lambda x: np.sin(x)*x\n",
      "infun = lambda x: np.sin(x)-x*np.cos(x)\n",
      "p = lambda x: (1/np.sqrt(2*np.pi*sig**2))*np.exp(-(x-mu)**2/(2.0*sig**2))\n",
      "normfun = lambda x:  norm.cdf(x-mu, scale=sig)"
     ],
     "language": "python",
     "metadata": {},
     "outputs": [],
     "prompt_number": 9
    },
    {
     "cell_type": "code",
     "collapsed": false,
     "input": [
      "plt.figure(figsize=(18,8))  # set the figure size\n",
      "\n",
      "\n",
      "# range of integration\n",
      "xmax =np.pi \n",
      "xmin =0\n",
      "\n",
      "# Number of draws \n",
      "N =1000\n",
      "\n",
      "# Just want to plot the function\n",
      "x=np.linspace(xmin, xmax, 1000)\n",
      "plt.subplot(1,2,1)\n",
      "plt.plot(x, f(x), 'b', label=u'Original  $x\\sin(x)$')\n",
      "plt.plot( x, 2*p(x), 'r', label=u'Importance Sampling Function: Normal')\n",
      "plt.xlabel('x')\n",
      "plt.legend()\n",
      "# =============================================\n",
      "# EXACT SOLUTION \n",
      "# =============================================\n",
      "Iexact = infun(xmax)-infun(xmin)\n",
      "\n",
      "# ============================================\n",
      "# VANILLA MONTE CARLO \n",
      "# ============================================\n",
      "Ivmc = np.zeros(1000)\n",
      "for k in np.arange(0,1000):\n",
      "    x = np.random.uniform(low=xmin, high=xmax, size=N)\n",
      "    Ivmc[k] = (xmax-xmin)*np.mean( f(x))\n",
      "\n",
      "\n",
      "# ============================================\n",
      "# IMPORTANCE SAMPLING \n",
      "# ============================================\n",
      "# CHOOSE Gaussian so it similar to the original functions\n",
      "\n",
      "Iis = np.zeros(1000)\n",
      "for k in np.arange(0,1000):\n",
      "    # DRAW FROM THE GAUSSIAN mean =2 std = sqrt(0.7) \n",
      "    xis = mu + sig*np.random.randn(N,1);\n",
      "    #hist(x)\n",
      "    xis = xis[ (xis<xmax) & (xis>xmin)] ;\n",
      "\n",
      "    # normalization for gaussian from 0..pi\n",
      "    normal = normfun(np.pi)-normfun(0);\n",
      "\n",
      "\n",
      "    Iis[k] =np.mean(f(xis)/p(xis))*normal;\n",
      "\n",
      "\n",
      "plt.subplot(1,2,2)\n",
      "plt.hist(Iis,30, histtype='step', label=u'Importance Sampling');\n",
      "plt.hist(Ivmc, 30, color='r',histtype='step', label=u'Vanilla MC');\n",
      "\n",
      " \n",
      "plt.legend()\n",
      " \n",
      " \n",
      " "
     ],
     "language": "python",
     "metadata": {},
     "outputs": [
      {
       "metadata": {},
       "output_type": "pyout",
       "prompt_number": 10,
       "text": [
        "<matplotlib.legend.Legend at 0x8573b30>"
       ]
      },
      {
       "metadata": {},
       "output_type": "display_data",
       "png": "[encoded data removed]",
       "text": [
        "<matplotlib.figure.Figure at 0x840bcb0>"
       ]
      }
     ],
     "prompt_number": 10
    },
    {
     "cell_type": "markdown",
     "metadata": {},
     "source": [
      "### 5. Using Monte Carlo for probability distributions\n",
      "\n",
      "We have introduced the concept of randomly throwing stones or \n",
      "randomly selecting pairs. In this lecture we will explore \n",
      "how computers generate random numbers. \n",
      "\n",
      "Randomness means lack of correlation. For a sequence of numbers $r={r_1, r_2, \\ldots, r_n}$ \n",
      "we can define randomness as an asymptotic property of the series as $N \\rightarrow \\infty$. \n",
      "Since this is a hopeless task we can test randomness with a various tests described below. \n",
      "\n",
      "Long sequences of random numbers are needed in numerous applications,\n",
      "in particular methods which utilize random numbers such as Monte Carlo simulation techniques, stochastic optimization, cryptography\n",
      "calculations that simulate naturally random processes (e.g. thermal motion or radioactive decay). \n",
      "All these methods require fast and reliable random number sources.\n",
      "\n",
      "Many physical processes are random by nature and such processes can be used to\n",
      "produce random numbers. Examples are noise in semiconductor devices or throwing a dice.\n",
      "On the other hand computers are deterministic machines and because of that, they can not generate truly random numbers. \n",
      "\n",
      "In practice, random numbers are generated by pseudorandom number generators.\n",
      "These are deterministic algorithms, and consequently the generated numbers are only \"pseudo-random\" and have their limitations. \n",
      "But for many applications, pseudorandom numbers can be successfully used to approximate real random\n",
      "numbers.\n",
      "\n",
      "Lets say that the probability of a random number to occur is $P(r)$ and that means \n",
      "the probability of finding $r_i$ in the interval $[r_j, r_j+dr]$ is $P(r)dr$. \n",
      "A uniform distribution means that P(r) is constant and that means all numbers are equally likely to occur.\n",
      "Not all random sequences are uniform. In other distributions (Normal, Poisson etc) not all numbers are equally likely to occur."
     ]
    },
    {
     "cell_type": "markdown",
     "metadata": {},
     "source": [
      "### Inverse Transform\n",
      "\n",
      "Consider a change of variables $r\\rightarrow x$ such as if $r$ are\n",
      "uniformly distributed, $u(r)=const$, then the probability distribution $w(x)$ is what we desire.\n",
      "For the probability to be conserved on the transformation\n",
      "\n",
      "$$ u(r) \\, dr = w(x) \\, dx \\Rightarrow w(x) = \\left| \\frac{dr}{dx} \\right| \\, u(r) $$\n",
      "\n",
      "To find the mapping from $x$ to $r$ we calculate the cumulative \n",
      "distribution function (CDF) of both probability distributions, from $0$ to $r$ and -$\\infty$ to $x$ respectively, and since that is not decreasing \n",
      "\n",
      "$$ \\int_{0}^{r} u(r') dr' = r =  \\int_{-\\infty}^{x} w(x) \\, dx =F(x) $$\n",
      "\n",
      "After the integral of the target function from -$\\infty$ to $x$ (or the CDF until $x$, $F(x)$) is \n",
      "evaluated, we solve for $x$ yielding a new equation $x=F^{-1}(r)$. \n",
      "To generate numbers that follow\n",
      "$w(x)$ therefore, we draw from the uniform distribution and \n",
      "we apply the transformation $x=F^{-1}(r)$. \n",
      "\n",
      " For example, lets assume we would like\n",
      "to generate random numbers that follow the exponential distribution\n",
      "$w(x) = \\frac{1}{\\lambda} e^{-x/\\lambda}$ for $x\\ge0$ and $w(x)=0$ \n",
      "otherwise. Following the recipe from above\n",
      "\n",
      "$$ r = \\int_{0}^{x} \\frac{1}{\\lambda} e^{-x'/\\lambda} dx'  = 1- e^{-x/\\lambda} $$ \n",
      "\n",
      "Solving for $x$ \n",
      "$$ x = - \\lambda \\ln (1-r) $$"
     ]
    },
    {
     "cell_type": "markdown",
     "metadata": {},
     "source": [
      "###Example: Draw from the distribution $f(x) \\sim \\exp{(-x)}$\n",
      "\n",
      "The following code will produce numbers that follow the $\\exp{(-x)}$ distribution. The figure\n",
      "generated by code below shows the resulting histogram of the generated numbers\n",
      "compared to the actual $\\exp{(-x)}$."
     ]
    },
    {
     "cell_type": "code",
     "collapsed": false,
     "input": [
      "# probability distribution we're trying to calculate\n",
      "p = lambda x: np.exp(-x)\n",
      "\n",
      "# CDF of p\n",
      "CDF = lambda x: 1-np.exp(-x)\n",
      "\n",
      "# invert the CDF\n",
      "invCDF = lambda x: -np.log(1-x)\n",
      "\n",
      "# domain limits\n",
      "xmin = 0 # the lower limit of our domain\n",
      "xmax = 6 # the upper limit of our domain\n",
      "\n",
      "# range limits\n",
      "rmin = CDF(xmin)\n",
      "rmax = CDF(xmax)\n",
      "\n",
      "N = 10000 # the total of samples we wish to generate\n",
      "\n",
      "# generate uniform samples in our range then invert the CDF\n",
      "# to get samples of our target distribution\n",
      "R = np.random.uniform(rmin, rmax, N)\n",
      "X = invCDF(R)\n",
      "\n",
      "# get the histogram info\n",
      "hinfo = np.histogram(X,100)\n",
      "\n",
      "# plot the histogram\n",
      "plt.hist(X,bins=100, label=u'Samples', alpha=0.5);\n",
      "\n",
      "# plot our (normalized) function\n",
      "xvals=np.linspace(xmin, xmax, 1000)\n",
      "plt.plot(xvals, hinfo[0][0]*p(xvals), 'r', label=u'p(x)')\n",
      "\n",
      "# turn on the legend\n",
      "plt.legend()"
     ],
     "language": "python",
     "metadata": {},
     "outputs": [
      {
       "metadata": {},
       "output_type": "pyout",
       "prompt_number": 11,
       "text": [
        "<matplotlib.legend.Legend at 0x9f23190>"
       ]
      },
      {
       "metadata": {},
       "output_type": "display_data",
       "png": "[encoded data removed]",
       "text": [
        "<matplotlib.figure.Figure at 0x8092c50>"
       ]
      }
     ],
     "prompt_number": 11
    },
    {
     "cell_type": "markdown",
     "metadata": {},
     "source": [
      "###Rejection Method\n",
      "\n",
      "This method follows the basic idea of the hit or miss method described above\n",
      "\n",
      "A simple method for generating random points with distribution\n",
      "$w(x)$ was deduced by  von Neumann. The idea is extremely \n",
      "simple. In one dimension, if you have a function with known everywhere on a specific domaing (i.e. $[x_{min}\\, x_{max}]$ and with a known supremum $M$ over that domain, you can sample from it as follows:\n",
      "\n",
      "<div id=\"picture\">\n",
      "<figure>\n",
      "\t\t<img width=\"400\" align=\"middle\" src=\"./Lecture03_data/Rejection.png\">\n",
      "        <figcaption>  Basic rejection method</figcaption>\n",
      "</figure>\n",
      "</div>\n",
      "\n",
      "One draws a pair of random numbers, $x,y$ and \n",
      "then compares if $y$ is above or below the target distribution\n",
      "$w(x)$.\n",
      "\n",
      "+ Draw $x$ uniformly from $[x_{min}\\, x_{max}]$\n",
      "+ Draw $y$ uniformly from [0,$M$]\n",
      "+ if $y$ < w($x$), accept the sample\n",
      "+ otherwise reject it\n",
      "+ repeat\n",
      "\n",
      "**Example**\n",
      "\n",
      "The following code produces samples that follow the distribution $P(x)=e^{-x}$ \n",
      "  for $x=[0,10]$ and generates a histogram of the sampled distribution. "
     ]
    },
    {
     "cell_type": "code",
     "collapsed": false,
     "input": [
      "P = lambda x: np.exp(-x)\n",
      "\n",
      "# domain limits\n",
      "xmin = 0 # the lower limit of our domain\n",
      "xmax = 10 # the upper limit of our domain\n",
      "\n",
      "# range limit (supremum) for y\n",
      "ymax = 1\n",
      "\n",
      "N = 10000 # the total of samples we wish to generate\n",
      "accepted = 0 # the number of accepted samples\n",
      "samples = np.zeros(N)\n",
      "count = 0 # the total count of proposals\n",
      "\n",
      "# generation loop\n",
      "while (accepted < N):\n",
      "    \n",
      "    # pick a uniform number on [xmin, xmax) (e.g. 0...10)\n",
      "    x = np.random.uniform(xmin, xmax)\n",
      "    \n",
      "    # pick a uniform number on [0, ymax)\n",
      "    y = np.random.uniform(0,ymax)\n",
      "    \n",
      "    # Do the accept/reject comparison\n",
      "    if y < P(x):\n",
      "        samples[accepted] = x\n",
      "        accepted += 1\n",
      "    \n",
      "    count +=1\n",
      "    \n",
      "print count, accepted\n",
      "\n",
      "# get the histogram info\n",
      "hinfo = np.histogram(samples,30)\n",
      "\n",
      "# plot the histogram\n",
      "plt.hist(samples,bins=30, label=u'Samples', alpha=0.5);\n",
      "\n",
      "# plot our (normalized) function\n",
      "xvals=np.linspace(xmin, xmax, 1000)\n",
      "plt.plot(xvals, hinfo[0][0]*P(xvals), 'r', label=u'P(x)')\n",
      "\n",
      "# turn on the legend\n",
      "plt.legend()"
     ],
     "language": "python",
     "metadata": {},
     "outputs": [
      {
       "output_type": "stream",
       "stream": "stdout",
       "text": [
        "100877 10000\n"
       ]
      },
      {
       "metadata": {},
       "output_type": "pyout",
       "prompt_number": 12,
       "text": [
        "<matplotlib.legend.Legend at 0xa0d0750>"
       ]
      },
      {
       "metadata": {},
       "output_type": "display_data",
       "png": "[encoded data removed]",
       "text": [
        "<matplotlib.figure.Figure at 0x9cd6930>"
       ]
      }
     ],
     "prompt_number": 12
    },
    {
     "cell_type": "markdown",
     "metadata": {},
     "source": [
      "### Rejection Sampling on Steroids\n",
      "\n",
      "The simple rejection sampling method above suffers from some fundamental problems.  For our simple example, it's quite easy to determine the supremum.  In practice, while you may know how to quickly (i.e. constant time) evaluate your function everywhere on the domain of interest, finding a bound very close to the  supremum may not be a feasible calculation.  In addition, even if you find a tight bound for the supremum, basic rejection sampling will still be very inefficient in that you will reject many samples (especially in low density regions or ldrs).  While other techniques will be required to really address this problem, it is still possible to somewhat do a more efficient job while still taking advantage of the simplicity of rejection sampling.  Our modified technique will introduce a _proposal density_ $g(x)$.  The proposal density will have the following characteristics:\n",
      "\n",
      "+ $g(x)$ is easy to sample from and (calculate the pdf)\n",
      "+ Some $M$ exists so that $M \\, g(x) > f(x)$ in your entire domain of interest\n",
      "+ ideally $g(x)$ will be somewhat close to $f$ so that you'll sample more in high density regions  and much less in low density regions\n",
      "+ N.B. an optimal value for M is the supremum over your domain of interest of $f/g$\n",
      "\n",
      "Once you've picked a proposal distribution g, your modified rejection sampling technique is as follows:\n",
      "\n",
      "+ Draw $x$ from your proposal distribution $g(x)$\n",
      "+ Draw $y$ uniformly from [0,1]\n",
      "+ if $y$ < w($x$)/$M g(x)$, accept the sample\n",
      "+ otherwise reject it\n",
      "+ repeat\n",
      "\n",
      "\n",
      "**Example**\n",
      "\n",
      "The following code produces samples that follow the distribution $P(x)=e^{-x}$ \n",
      "  for $x=[0,10]$ and generates a histogram of the sampled distribution."
     ]
    },
    {
     "cell_type": "code",
     "collapsed": false,
     "input": [
      "\n",
      "p = lambda x: np.exp(-x)  # our distribution\n",
      "g = lambda x: 1/(x+1)  # our proposal pdf (we're thus choosing M to be 1)\n",
      "invCDFg = lambda x: np.log(x +1) # generates our proposal using inverse sampling\n",
      "\n",
      "# domain limits\n",
      "xmin = 0 # the lower limit of our domain\n",
      "xmax = 10 # the upper limit of our domain\n",
      "\n",
      "# range limits for inverse sampling\n",
      "umin = invCDFg(xmin)\n",
      "umax = invCDFg(xmax)\n",
      "\n",
      "N = 10000 # the total of samples we wish to generate\n",
      "accepted = 0 # the number of accepted samples\n",
      "samples = np.zeros(N)\n",
      "count = 0 # the total count of proposals\n",
      "\n",
      "# generation loop\n",
      "while (accepted < N):\n",
      "    \n",
      "    # Sample from g using inverse sampling\n",
      "    u = np.random.uniform(umin, umax)\n",
      "    xproposal = np.exp(u) - 1\n",
      "    \n",
      "    # pick a uniform number on [0, 1)\n",
      "    y = np.random.uniform(0,1)\n",
      "    \n",
      "    # Do the accept/reject comparison\n",
      "    if y < p(xproposal)/g(xproposal):\n",
      "        samples[accepted] = xproposal\n",
      "        accepted += 1\n",
      "    \n",
      "    count +=1\n",
      "    \n",
      "print count, accepted\n",
      "\n",
      "# get the histogram info\n",
      "hinfo = np.histogram(samples,50)\n",
      "\n",
      "# plot the histogram\n",
      "plt.hist(samples,bins=50, label=u'Samples', alpha=0.5);\n",
      "\n",
      "# plot our (normalized) function\n",
      "xvals=np.linspace(xmin, xmax, 1000)\n",
      "plt.plot(xvals, hinfo[0][0]*p(xvals), 'r', label=u'p(x)')\n",
      "\n",
      "# turn on the legend\n",
      "plt.legend()\n"
     ],
     "language": "python",
     "metadata": {},
     "outputs": [
      {
       "output_type": "stream",
       "stream": "stdout",
       "text": [
        "24054 10000\n"
       ]
      },
      {
       "metadata": {},
       "output_type": "pyout",
       "prompt_number": 13,
       "text": [
        "<matplotlib.legend.Legend at 0xa114370>"
       ]
      },
      {
       "metadata": {},
       "output_type": "display_data",
       "png": "[encoded data removed]",
       "text": [
        "<matplotlib.figure.Figure at 0x7ea7470>"
       ]
      }
     ],
     "prompt_number": 13
    },
    {
     "cell_type": "markdown",
     "metadata": {},
     "source": [
      "### Box-Muller algorithm\n",
      "\n",
      "In many cases the integral to calculate the CDF may not be easy to calculate analytically\n",
      "and we need to come with clever algorithms. For example \n",
      "there is no closed form formula for the integral of the normal distribution\n",
      "$ I=\\frac{1}{2\\pi} \\int_{-\\infty}^{x} e^{-x'^2/2}dx' $.\n",
      "\n",
      "The Box Muller method is a brilliant trick to overcome this by producing two independent standard normals\n",
      "from two independent uniforms. It is based on the familiar trick for calculating this integral:\n",
      "\n",
      "$$ I^2 = \\int_{-\\infty}^{\\infty} e^{-x'^2/2}dx' \\int_{-\\infty}^{\\infty} e^{-y'^2/2}dy'  = \\int_{-\\infty}^{\\infty}  \\int_{-\\infty}^{\\infty}  e^{(x^2+y^2)/2} dx dy $$\n",
      "\n",
      "This  integral can be calculated using polar coordinates $x = r \\cos(\\theta), y = r \\sin(\\theta)$ with area element $dxdy = rdrd\\theta$, so that\n",
      "\n",
      "$$ I^2 = \\int_{r=0}^{\\infty} \\int_{\\theta=0}^{2\\pi} e^{-r^2/2} r dr d\\theta = 2\\pi \\int_{r=0}^{\\infty} e^{-r^2/2} r dr $$\n",
      "\n",
      "Substituting $s=r^2/2$ gives $ds=r dr$ and \n",
      "\n",
      "$$ I^2 = 2\\pi\\int_{s=0}^{\\infty} e^{-s} ds = 2\\pi $$\n",
      "\n",
      "Now, lets look at the integral of the distribution on $r$ where $r$ is defined above\n",
      "and then use the inverse trick. \n",
      "\n",
      "$$ U =\\int_{r'=0}^{r} \\int_{\\theta=0}^{2\\pi}  \\frac{1}{2\\pi} e^{-r'2/2} \\, r'  dr' d\\theta  = I^2 (x,y) $$\n",
      "\n",
      "Using the same variable transformation $s=r^2/2$ we can show \n",
      "\n",
      "$$ U = \\int_{s=0}^{r^2/2} e^{-s}\\, ds = 1 - e^{-r^2/2} $$\n",
      "\n",
      "where $U$ is the uniformly distributed variable. (We have changed the notation\n",
      "since $r$ is now used for radius). Notice that since $r$ goes from $[0,\\infty]$, $U$ is uniformly distributed on $[0,1]$, and no rescaling is required.\n",
      "\n",
      "We can solve for $r$\n",
      "but it is easier first to observe that $U_1 = 1-U$ is also \n",
      "uniformly  distributed. Therefore we can solve the following equation:\n",
      "\n",
      "$$  1 - e^{-r^2/2} = 1-U_1 $$\n",
      "and find $r$ as a function of $U_1$. \n",
      "\n",
      "$$ r = \\sqrt{-2 \\ln{U_1}} $$\n",
      "\n",
      "Also note that $\\theta$ is uniformly distributed from 0 to $2\\pi$ and \n",
      "$$ \\theta = 2\\pi U_2 $$\n",
      "\n",
      "\n",
      "Altogether, the Box Muller method takes \n",
      "independent standard uniform random variables $U1$ and $U2$ and produces independent standard normals $x$ and $y$ using the formulas \n",
      "\n",
      "$$ \\theta = 2\\pi U_2 \\hspace{1cm} r=\\sqrt{- 2\\ln{U_1}} \\hspace{1cm}  x= r \\cos{\\theta} \\hspace{1cm}  y= r \\sin{\\theta} $$\n"
     ]
    },
    {
     "cell_type": "markdown",
     "metadata": {},
     "source": [
      "# Appendix: Random Number Generation"
     ]
    },
    {
     "cell_type": "markdown",
     "metadata": {},
     "source": [
      "##  Random Number Generators\n",
      "\n",
      "Once we understand and want to sample or simulate randomness, then in general we'd like to start with a uniform distribution.  Not only is this the most practical and common distribution to sample from, but (as much of the lecture explains) once we can sample from the uniform distribution, techniques abound to sample from other distributions. \n",
      "\n",
      "### Infinite Coin Flips\n",
      "\n",
      "Now the most basic distribution to simulate or sample is the Bernouli.  Why?  Well, we're very good at flipping coins (or in general discretizing continuous events to get binary results).  Once we can flip coin we can simulate a uniform distribution as follows.  In order to get a sample _a_ from a uniform distribution\n",
      "\n",
      "+ Keep a count _n_ initialized to 0\n",
      "+ Flip a coin _c_\n",
      "+ Let the nth place of the binary decimal expansion of _a_ be the result of the coin flip\n",
      "+ increment _n_\n",
      "+ repeat\n",
      "\n",
      "We know from real analysis that (with some careful attention to details like potentially discarding all infinitely repeating fractions) we will end up with a uniform sample from [0, 1)\n",
      "\n",
      "### Linear Congruential Generator\n",
      "Unfortunately, we're not imortal and don't have infinite time.  Moreover, even if we did, we probably would rather spend that time doing things other than simulating __ONE__ uniform random variable.  Fortunately other, more efficient methods exist to sample from a uniform distribution.  One such method is the linear congruential generator.\n",
      "\n",
      "\n",
      "The Linear congruential geneator is based on a integer recursive relation \n",
      "\n",
      "$$ r_{i+1} = (a \\, r_i +c) \\, {\\rm mod} \\, M  $$\n",
      "\n",
      "where  $a, c$ and $M$ are constants. This generates a sequence $r_1, r_2, \\ldots$ of random\n",
      "integers which are distributed between $[0,M-1]$ (if $c>0$) or between $[1,M]$ (if $c = 0$). Each $r_i$\n",
      "is scaled to the interval $(0,1)$ by dividing by $M$. The parameter $M$ is usually\n",
      "equal or nearly equal to the largest integer of the computer. This determines the period $P$\n",
      "of the generator and $P< M$. \n",
      "The first number in the sequence $r_1$ is an input and it is called the **seed**.\n",
      "\n",
      "If $c\\neq 0$, the period of the generator is equal to $M$ if and only if\n",
      "\n",
      "+ $c$ is relatively prime to $M$ (find the greatest common divisor)\n",
      "+ $a-1$ is a multiple of every prime number that divides $M$ and\n",
      "+ $a -1$ is a multiple of 4 if $M$ is a multiple of 4\n",
      "\n",
      "If $M > 2$ is a prime number,\n",
      "+ the maximum possible period is $M-1$ and\n",
      "+ the maximum period is achieved if $a \\,\\,{\\rm mod} \\,\\,M \\neq 0$ and\n",
      " $a^{M-1}/q \\,\\,{\\rm mod} \\,\\, M \\neq 1$  for every prime divisor $q$ of $M-1$.\n",
      "\n",
      "### Properties of Random Numbers\n",
      "In practice, random number generator algorithms are implemented in the computer and\n",
      "the numbers are generated while a computer program is running. \n",
      "\n",
      "Computer random number generators produce uniformly distributed \n",
      "numbers in the range $[0,1]$. We will see below how to generate other distributions\n",
      "starting from the uniform. \n",
      "\n",
      "A 'good' random number generator has the following properties:\n",
      "\n",
      "+ The numbers must have the correct distribution. Since most of the random number generators\n",
      "meant to produce a uniform distributions  that means the distribution should be uniform. \n",
      "+ The period of the sequence should be longer than the numbers necessary for the application. All random number generators will repeat the same sequence of numbers eventually, but it is important\n",
      "that the sequence is sufficiently long.\n",
      "+ The sequence is uncorrelated.\n",
      "\n",
      "\n",
      "There are many tests that test the quality of the random number generator. \n",
      "\n",
      "+ Visual inspection. A good test is to plot the consecutive sub series\n",
      "$r_{i \\in {\\rm even}},  r_{i \\in {\\rm odd}} $ as a scatter plot. Figure 1 shows a good random number sequence where Figure 2 shows\n",
      "a sequence with repetition.\n",
      "\n",
      "<div id=\"picture\">\n",
      "<figure>\n",
      "\t\t<img width=\"400\" align=\"middle\" src=\"./Lecture03_data/GoodRandom.png\">\n",
      "        <figcaption> A good random number generator </figcaption>\n",
      "</figure>\n",
      "</div>\n",
      "<div id=\"picture\">\n",
      "<figure>\n",
      "\t\t<img width=\"400\" align=\"middle\" src=\"./Lecture03_data/BadRandom.png\">\n",
      "        <figcaption> A bad random number generator </figcaption>\n",
      "</figure>\n",
      "</div>\n",
      "\n",
      "+ Moment tests. The moments of a uniform distribution \n",
      "$$ \\frac{1}{N} \\sum_{i=1}^{N} r_i^k = \\int x^k \\, P(x) dx +O(1/\\sqrt{N}) \\approx \\frac{1}{k+1} $$\n",
      "The random sequence should converge to $1/(k+1)$ as $N\\rightarrow \\infty$. \n",
      "+Correlation test. Check the autocorrelation of the series. This should \n",
      "have no correlation above the noise for all lags. \n",
      "+ The spectral test. The power spectrum of the series should be flat.\n",
      "+ Diehard Battery of Tests of Randomness. http://stat.fsu.edu/pub/diehard/\n",
      "+ My favorite one. http://www.iro.umontreal.ca/~simardr/testu01/tu01.html\n",
      "\n"
     ]
    },
    {
     "cell_type": "code",
     "collapsed": false,
     "input": [],
     "language": "python",
     "metadata": {},
     "outputs": [],
     "prompt_number": 13
    }
   ],
   "metadata": {}
  }
 ]
}